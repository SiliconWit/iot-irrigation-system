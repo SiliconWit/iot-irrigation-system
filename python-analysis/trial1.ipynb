{
 "cells": [
  {
   "cell_type": "code",
   "execution_count": null,
   "id": "bc1a36fb",
   "metadata": {},
   "outputs": [],
   "source": [
    "import numpy as np\n",
    "import pandas as pd\n",
    "import matplotlib.pyplot as plt\n",
    "from matplotlib.animation import FuncAnimation\n",
    "\n",
    "%matplotlib notebook"
   ]
  },
  {
   "cell_type": "code",
   "execution_count": null,
   "id": "70bb91ba",
   "metadata": {},
   "outputs": [],
   "source": [
    "# Extract data\n",
    "content = pd.read_csv('Datas1.csv')\n",
    "#t = content.Time\n",
    "t = np.linspace(0,888,888)\n",
    "m = content.Mois_beans"
   ]
  },
  {
   "cell_type": "code",
   "execution_count": null,
   "id": "601d4c57",
   "metadata": {},
   "outputs": [],
   "source": [
    "fig,ax = plt.subplots()\n",
    "ax.set_xlim(0,900); ax.set_ylim(0,150)\n",
    "line = plt.plot([],[])[0]\n",
    "\n",
    "def update(i):\n",
    "    line.set_data(t[:i],m[:i])\n",
    "    return line,\n",
    "\n",
    "anim = FuncAnimation(fig, update, frames=len(t),interval=15, blit=True)\n",
    "\n",
    "plt.show()"
   ]
  },
  {
   "cell_type": "code",
   "execution_count": null,
   "id": "fab09791",
   "metadata": {},
   "outputs": [],
   "source": []
  }
 ],
 "metadata": {
  "kernelspec": {
   "display_name": "Python 3 (ipykernel)",
   "language": "python",
   "name": "python3"
  },
  "language_info": {
   "codemirror_mode": {
    "name": "ipython",
    "version": 3
   },
   "file_extension": ".py",
   "mimetype": "text/x-python",
   "name": "python",
   "nbconvert_exporter": "python",
   "pygments_lexer": "ipython3",
   "version": "3.10.9"
  }
 },
 "nbformat": 4,
 "nbformat_minor": 5
}
