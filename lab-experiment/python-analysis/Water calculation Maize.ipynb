{
 "cells": [
  {
   "cell_type": "code",
   "execution_count": null,
   "id": "765c9280",
   "metadata": {},
   "outputs": [],
   "source": [
    "#Initial Satge"
   ]
  },
  {
   "cell_type": "code",
   "execution_count": 22,
   "id": "372e31ff",
   "metadata": {},
   "outputs": [
    {
     "data": {
      "text/plain": [
       "(0.9359999999999999, 18.72)"
      ]
     },
     "execution_count": 22,
     "metadata": {},
     "output_type": "execute_result"
    }
   ],
   "source": [
    "ETo = 6.5\n",
    "Kc = 0.4\n",
    "days = 20\n",
    "Area = 0.36\n",
    "ETcrop = ETo*Kc*days\n",
    "ETcrop_Ini = ETcrop*Area\n",
    "ETcrop_in_daily = ETcrop_Ini/days\n",
    "ETcrop_in_Total = ETcrop_in_daily * days\n",
    "ETcrop_in_daily, ETcrop_in_Total"
   ]
  },
  {
   "cell_type": "code",
   "execution_count": 23,
   "id": "70494072",
   "metadata": {},
   "outputs": [],
   "source": [
    "#Development"
   ]
  },
  {
   "cell_type": "code",
   "execution_count": 24,
   "id": "04b94717",
   "metadata": {},
   "outputs": [
    {
     "data": {
      "text/plain": [
       "(1.8719999999999999, 65.52)"
      ]
     },
     "execution_count": 24,
     "metadata": {},
     "output_type": "execute_result"
    }
   ],
   "source": [
    "ETo = 6.5\n",
    "Kc = 0.8\n",
    "days = 35\n",
    "Area = 0.36\n",
    "ETcrop = ETo*Kc*days\n",
    "ETcrop_Dev = ETcrop*Area\n",
    "ETcrop_dev_daily = ETcrop_Dev/days\n",
    "ETcrop_dev_Total = ETcrop_dev_daily * days\n",
    "ETcrop_dev_daily, ETcrop_dev_Total\n"
   ]
  },
  {
   "cell_type": "code",
   "execution_count": null,
   "id": "606b3e36",
   "metadata": {},
   "outputs": [],
   "source": [
    "#Mid-Season"
   ]
  },
  {
   "cell_type": "code",
   "execution_count": 25,
   "id": "324d2c59",
   "metadata": {},
   "outputs": [
    {
     "data": {
      "text/plain": [
       "(2.691, 107.63999999999999)"
      ]
     },
     "execution_count": 25,
     "metadata": {},
     "output_type": "execute_result"
    }
   ],
   "source": [
    "ETo = 6.5\n",
    "Kc = 1.15\n",
    "days = 40\n",
    "Area = 0.36\n",
    "ETcrop = ETo*Kc*days\n",
    "ETcrop_mid = ETcrop*Area\n",
    "ETcrop_mid_daily = ETcrop_mid/days\n",
    "ETcrop_mid_Total = ETcrop_mid_daily * days\n",
    "ETcrop_mid_daily, ETcrop_mid_Total"
   ]
  },
  {
   "cell_type": "code",
   "execution_count": null,
   "id": "40141df3",
   "metadata": {},
   "outputs": [],
   "source": [
    "#Late Season"
   ]
  },
  {
   "cell_type": "code",
   "execution_count": 26,
   "id": "2a5f34f4",
   "metadata": {},
   "outputs": [
    {
     "data": {
      "text/plain": [
       "(1.6380000000000001, 49.14)"
      ]
     },
     "execution_count": 26,
     "metadata": {},
     "output_type": "execute_result"
    }
   ],
   "source": [
    "ETo = 6.5\n",
    "Kc = 0.7\n",
    "days = 30\n",
    "Area = 0.36\n",
    "ETcrop = ETo*Kc*days\n",
    "ETcrop_lat = ETcrop*Area\n",
    "ETcrop_lat_daily = ETcrop_lat/days\n",
    "ETcrop_lat_Total = ETcrop_lat_daily * days\n",
    "ETcrop_lat_daily, ETcrop_lat_Total"
   ]
  },
  {
   "cell_type": "code",
   "execution_count": 19,
   "id": "4fbcf49f",
   "metadata": {},
   "outputs": [
    {
     "data": {
      "text/plain": [
       "(18.72, 31.823999999999998, 50.544)"
      ]
     },
     "execution_count": 19,
     "metadata": {},
     "output_type": "execute_result"
    }
   ],
   "source": [
    "Maize_Water_ini_stage = (ETcrop_in_daily*20)\n",
    "Maize_Water_Dev_stage = (ETcrop_dev_daily*17)\n",
    "total_water = (ETcrop_in_daily*20) + (ETcrop_dev_daily*17)\n",
    "Maize_Water_ini_stage, Maize_Water_Dev_stage, total_water"
   ]
  },
  {
   "cell_type": "code",
   "execution_count": 27,
   "id": "2ccea6ff",
   "metadata": {},
   "outputs": [
    {
     "data": {
      "text/plain": [
       "241.01999999999998"
      ]
     },
     "execution_count": 27,
     "metadata": {},
     "output_type": "execute_result"
    }
   ],
   "source": [
    "Total_Seasonal_Water = ETcrop_in_Total + ETcrop_dev_Total + ETcrop_mid_Total + ETcrop_lat_Total\n",
    "Total_Seasonal_Water"
   ]
  },
  {
   "cell_type": "code",
   "execution_count": 28,
   "id": "c4f16635",
   "metadata": {},
   "outputs": [
    {
     "data": {
      "text/plain": [
       "(18.72, 31.823999999999998, 50.544)"
      ]
     },
     "execution_count": 28,
     "metadata": {},
     "output_type": "execute_result"
    }
   ],
   "source": [
    "Ini_Days = 20\n",
    "Dev_Days = 17\n",
    "Initial = (ETcrop_in_daily * Ini_Days)\n",
    "Development = (ETcrop_dev_daily * Dev_Days)\n",
    "Total = Initial + Development\n",
    "Initial, Development, Total"
   ]
  },
  {
   "cell_type": "code",
   "execution_count": null,
   "id": "73004775",
   "metadata": {},
   "outputs": [],
   "source": []
  }
 ],
 "metadata": {
  "kernelspec": {
   "display_name": "Python 3 (ipykernel)",
   "language": "python",
   "name": "python3"
  },
  "language_info": {
   "codemirror_mode": {
    "name": "ipython",
    "version": 3
   },
   "file_extension": ".py",
   "mimetype": "text/x-python",
   "name": "python",
   "nbconvert_exporter": "python",
   "pygments_lexer": "ipython3",
   "version": "3.10.9"
  }
 },
 "nbformat": 4,
 "nbformat_minor": 5
}
