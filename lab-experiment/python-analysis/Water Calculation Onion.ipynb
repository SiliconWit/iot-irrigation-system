{
 "cells": [
  {
   "cell_type": "code",
   "execution_count": 1,
   "id": "faf355d5",
   "metadata": {},
   "outputs": [],
   "source": [
    "#Initial Stage"
   ]
  },
  {
   "cell_type": "code",
   "execution_count": 28,
   "id": "573b00a3",
   "metadata": {},
   "outputs": [
    {
     "data": {
      "text/plain": [
       "(1.1700000000000002, 17.55)"
      ]
     },
     "execution_count": 28,
     "metadata": {},
     "output_type": "execute_result"
    }
   ],
   "source": [
    "ETo = 6.5\n",
    "Kc = 0.5\n",
    "days = 15\n",
    "Area = 0.36\n",
    "ETcrop = ETo*Kc*days\n",
    "ETcrop_Ini = ETcrop*Area\n",
    "ETcrop_in_daily = ETcrop_Ini/days\n",
    "ETcrop_in_Total = ETcrop_in_daily * days\n",
    "ETcrop_in_daily, ETcrop_in_Total"
   ]
  },
  {
   "cell_type": "code",
   "execution_count": 29,
   "id": "779e8968",
   "metadata": {},
   "outputs": [
    {
     "data": {
      "text/plain": [
       "(1.638, 40.949999999999996)"
      ]
     },
     "execution_count": 29,
     "metadata": {},
     "output_type": "execute_result"
    }
   ],
   "source": [
    "ETo = 6.5\n",
    "Kc = 0.7\n",
    "days = 25\n",
    "Area = 0.36\n",
    "ETcrop = ETo*Kc*days\n",
    "ETcrop_Dev = ETcrop*Area\n",
    "ETcrop_dev_daily = ETcrop_Dev/days\n",
    "ETcrop_dev_Total = ETcrop_dev_daily * days\n",
    "ETcrop_dev_daily, ETcrop_dev_Total"
   ]
  },
  {
   "cell_type": "code",
   "execution_count": 30,
   "id": "f415c55d",
   "metadata": {},
   "outputs": [
    {
     "data": {
      "text/plain": [
       "(2.457, 171.98999999999998)"
      ]
     },
     "execution_count": 30,
     "metadata": {},
     "output_type": "execute_result"
    }
   ],
   "source": [
    "ETo = 6.5\n",
    "Kc = 1.05\n",
    "days = 70\n",
    "Area = 0.36\n",
    "ETcrop = ETo*Kc*days\n",
    "ETcrop_mid = ETcrop*Area\n",
    "ETcrop_mid_daily = ETcrop_mid/days\n",
    "ETcrop_mid_Total = ETcrop_mid_daily * days\n",
    "ETcrop_mid_daily, ETcrop_mid_Total"
   ]
  },
  {
   "cell_type": "code",
   "execution_count": 31,
   "id": "cb252fab",
   "metadata": {},
   "outputs": [
    {
     "data": {
      "text/plain": [
       "(1.9889999999999997, 79.55999999999999)"
      ]
     },
     "execution_count": 31,
     "metadata": {},
     "output_type": "execute_result"
    }
   ],
   "source": [
    "ETo = 6.5\n",
    "Kc = 0.85\n",
    "days = 40\n",
    "Area = 0.36\n",
    "ETcrop = ETo*Kc*days\n",
    "ETcrop_lat = ETcrop*Area\n",
    "ETcrop_lat_daily = ETcrop_lat/days\n",
    "ETcrop_lat_Total = ETcrop_lat_daily * days\n",
    "ETcrop_lat_daily, ETcrop_lat_Total"
   ]
  },
  {
   "cell_type": "code",
   "execution_count": 32,
   "id": "e783f2d9",
   "metadata": {},
   "outputs": [
    {
     "data": {
      "text/plain": [
       "(23.400000000000002, 27.845999999999997, 51.245999999999995)"
      ]
     },
     "execution_count": 32,
     "metadata": {},
     "output_type": "execute_result"
    }
   ],
   "source": [
    "Onion_Water_ini_stage = (ETcrop_in_daily*20)\n",
    "Onion_Water_Dev_stage = (ETcrop_dev_daily*17)\n",
    "total_water = (ETcrop_in_daily*20) + (ETcrop_dev_daily*17)\n",
    "Onion_Water_ini_stage, Onion_Water_Dev_stage, total_water"
   ]
  },
  {
   "cell_type": "code",
   "execution_count": 33,
   "id": "ebb11c3f",
   "metadata": {},
   "outputs": [
    {
     "data": {
      "text/plain": [
       "310.04999999999995"
      ]
     },
     "execution_count": 33,
     "metadata": {},
     "output_type": "execute_result"
    }
   ],
   "source": [
    "Total_Seasonal_Water = ETcrop_in_Total + ETcrop_dev_Total + ETcrop_mid_Total + ETcrop_lat_Total\n",
    "Total_Seasonal_Water"
   ]
  },
  {
   "cell_type": "code",
   "execution_count": 34,
   "id": "afcf1e9e",
   "metadata": {},
   "outputs": [
    {
     "data": {
      "text/plain": [
       "(17.55, 36.036, 53.586)"
      ]
     },
     "execution_count": 34,
     "metadata": {},
     "output_type": "execute_result"
    }
   ],
   "source": [
    "Ini_Days = 15\n",
    "Dev_Days = 22\n",
    "Initial = (ETcrop_in_daily * Ini_Days)\n",
    "Development = (ETcrop_dev_daily * Dev_Days)\n",
    "Total = Initial + Development\n",
    "Initial, Development, Total"
   ]
  },
  {
   "cell_type": "code",
   "execution_count": null,
   "id": "62d01652",
   "metadata": {},
   "outputs": [],
   "source": []
  }
 ],
 "metadata": {
  "kernelspec": {
   "display_name": "Python 3 (ipykernel)",
   "language": "python",
   "name": "python3"
  },
  "language_info": {
   "codemirror_mode": {
    "name": "ipython",
    "version": 3
   },
   "file_extension": ".py",
   "mimetype": "text/x-python",
   "name": "python",
   "nbconvert_exporter": "python",
   "pygments_lexer": "ipython3",
   "version": "3.10.9"
  }
 },
 "nbformat": 4,
 "nbformat_minor": 5
}
