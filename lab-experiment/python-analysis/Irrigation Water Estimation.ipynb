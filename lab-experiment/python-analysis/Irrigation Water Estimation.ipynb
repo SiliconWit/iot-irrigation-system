{
 "cells": [
  {
   "cell_type": "code",
   "execution_count": 22,
   "id": "f27c0c0a",
   "metadata": {},
   "outputs": [],
   "source": [
    "# Import required Libraries\n",
    "import pandas as pd\n",
    "from tabulate import tabulate"
   ]
  },
  {
   "cell_type": "code",
   "execution_count": 35,
   "id": "d6ac694c",
   "metadata": {},
   "outputs": [],
   "source": [
    "# Farm Dimensions\n",
    "L = 0.6 # length in m\n",
    "W = 0.6 # width in m\n",
    "# Reference crop Evapotranspiration\n",
    "ETo = 6.5 # Estimated semi arid regions"
   ]
  },
  {
   "cell_type": "code",
   "execution_count": 36,
   "id": "02ae21d4",
   "metadata": {},
   "outputs": [],
   "source": [
    "# Crops to be grow and their stages\n",
    "crops = [\"beans\", \"maize\", \"onion\", \"rice\"] # Grown crops\n",
    "stages = [\"initial\", \"development\", \"mid_season\", \"late_season\"] # Growth stages"
   ]
  },
  {
   "cell_type": "code",
   "execution_count": 37,
   "id": "667211c6",
   "metadata": {},
   "outputs": [],
   "source": [
    "# Function to calculate water reauired for every crop growing stage\n",
    "def calculate_water_requirement(crop, stage):\n",
    "    Area = L * W\n",
    "    if crop == \"beans\":\n",
    "        if stage == \"initial\": kc, days = 0.35, 15\n",
    "        elif stage == \"development\": kc, days = 0.7, 25    \n",
    "        elif stage == \"mid_season\": kc, days = 1.1, 35            \n",
    "        elif stage == \"late_season\": kc, days = 0.3, 20 \n",
    "          \n",
    "    elif crop == \"maize\":\n",
    "        if stage == \"initial\":kc, days = 0.4, 20\n",
    "        elif stage == \"development\": kc, days = 0.8, 35    \n",
    "        elif stage == \"mid_season\": kc, days = 1.15, 40            \n",
    "        elif stage == \"late_season\": kc, days = 0.7, 30 \n",
    "            \n",
    "    elif crop == \"onion\":\n",
    "        if stage == \"initial\": kc, days = 0.5, 15\n",
    "        elif stage == \"development\": kc, days = 0.8, 25    \n",
    "        elif stage == \"mid_season\": kc, days = 1.05, 70            \n",
    "        elif stage == \"late_season\": kc, days = 0.85, 40 \n",
    "        \n",
    "    elif crop == \"rice\": \n",
    "        sat = 2  # Saturation water, mm/day\n",
    "        parc = 6  # Parcolation and Seapage Water mm/day\n",
    "        wl = 1/3  # Water for Layer establishment mm/day\n",
    "        \n",
    "        if stage == \"initial\": kc, days, sat, parc, wl = 1.1, 60, sat, parc, wl\n",
    "        elif stage == \"development\": kc, days, sat, parc, wl = 0, 0, 0, 0, 0    \n",
    "        elif stage == \"mid_season\": kc, days, sat, parc, wl = 1.2, 60, 0, parc, wl            \n",
    "        elif stage == \"late_season\": kc, days, sat, parc, wl = 1, 30, 0, parc, wl \n",
    "\n",
    "        et_crop = (ETo * kc * Area  + sat + parc + wl) * days\n",
    "        return et_crop\n",
    "\n",
    "    et_crop = ETo * kc * Area * days\n",
    "    return et_crop\n"
   ]
  },
  {
   "cell_type": "code",
   "execution_count": 38,
   "id": "5ce246a3",
   "metadata": {},
   "outputs": [
    {
     "name": "stdout",
     "output_type": "stream",
     "text": [
      "Water Use Estimations\n",
      "+--------+----------------+--------------------------+\n",
      "| Crop   | Growth Stage   |   Total Water Usage (mm) |\n",
      "+========+================+==========================+\n",
      "| Beans  | Initial        |                    12.29 |\n",
      "+--------+----------------+--------------------------+\n",
      "| Beans  | Development    |                    40.95 |\n",
      "+--------+----------------+--------------------------+\n",
      "| Beans  | Mid_season     |                    90.09 |\n",
      "+--------+----------------+--------------------------+\n",
      "| Beans  | Late_season    |                    14.04 |\n",
      "+--------+----------------+--------------------------+\n",
      "| Maize  | Initial        |                    18.72 |\n",
      "+--------+----------------+--------------------------+\n",
      "| Maize  | Development    |                    65.52 |\n",
      "+--------+----------------+--------------------------+\n",
      "| Maize  | Mid_season     |                   107.64 |\n",
      "+--------+----------------+--------------------------+\n",
      "| Maize  | Late_season    |                    49.14 |\n",
      "+--------+----------------+--------------------------+\n",
      "| Onion  | Initial        |                    17.55 |\n",
      "+--------+----------------+--------------------------+\n",
      "| Onion  | Development    |                    46.8  |\n",
      "+--------+----------------+--------------------------+\n",
      "| Onion  | Mid_season     |                   171.99 |\n",
      "+--------+----------------+--------------------------+\n",
      "| Onion  | Late_season    |                    79.56 |\n",
      "+--------+----------------+--------------------------+\n",
      "| Rice   | Initial        |                   654.44 |\n",
      "+--------+----------------+--------------------------+\n",
      "| Rice   | Development    |                     0    |\n",
      "+--------+----------------+--------------------------+\n",
      "| Rice   | Mid_season     |                   548.48 |\n",
      "+--------+----------------+--------------------------+\n",
      "| Rice   | Late_season    |                   260.2  |\n",
      "+--------+----------------+--------------------------+\n"
     ]
    }
   ],
   "source": [
    "# Create the table for the water estimat Output\n",
    "def create_water_usage_table():\n",
    "    headers = [\"Crop\", \"Growth Stage\", \"Total Water Usage (mm)\"]\n",
    "    rows = []\n",
    "\n",
    "    for crop in crops:\n",
    "        for stage in stages:\n",
    "            water_requirement = calculate_water_requirement(crop, stage)\n",
    "            rows.append([crop.capitalize(), stage.capitalize(), f\"{water_requirement:.2f}\"])\n",
    "\n",
    "    table = tabulate(rows, headers, tablefmt=\"grid\")\n",
    "    print(\"Water Use Estimations\")\n",
    "    print(table)\n",
    "\n",
    "# Create and print the water usage table\n",
    "create_water_usage_table()"
   ]
  },
  {
   "cell_type": "code",
   "execution_count": null,
   "id": "12712402",
   "metadata": {},
   "outputs": [],
   "source": []
  }
 ],
 "metadata": {
  "kernelspec": {
   "display_name": "Python 3 (ipykernel)",
   "language": "python",
   "name": "python3"
  },
  "language_info": {
   "codemirror_mode": {
    "name": "ipython",
    "version": 3
   },
   "file_extension": ".py",
   "mimetype": "text/x-python",
   "name": "python",
   "nbconvert_exporter": "python",
   "pygments_lexer": "ipython3",
   "version": "3.10.9"
  }
 },
 "nbformat": 4,
 "nbformat_minor": 5
}
