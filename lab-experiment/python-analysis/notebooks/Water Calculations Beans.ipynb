{
 "cells": [
  {
   "cell_type": "code",
   "execution_count": 3,
   "id": "626ff40a",
   "metadata": {},
   "outputs": [],
   "source": [
    "#Inital Stage for Beans"
   ]
  },
  {
   "cell_type": "code",
   "execution_count": 4,
   "id": "0498951b",
   "metadata": {},
   "outputs": [
    {
     "data": {
      "text/plain": [
       "(0.8190000000000001, 12.285)"
      ]
     },
     "execution_count": 4,
     "metadata": {},
     "output_type": "execute_result"
    }
   ],
   "source": [
    "ETo = 6.5\n",
    "Kc = 0.35\n",
    "days = 15\n",
    "Area = 0.36\n",
    "ETcrop = ETo*Kc*days\n",
    "ETcrop_Ini = ETcrop*Area\n",
    "ETcrop_in_daily = ETcrop_Ini/days\n",
    "ETcrop_in_Total = ETcrop_in_daily * days\n",
    "ETcrop_in_daily, ETcrop_in_Total"
   ]
  },
  {
   "cell_type": "code",
   "execution_count": null,
   "id": "25448144",
   "metadata": {},
   "outputs": [],
   "source": []
  },
  {
   "cell_type": "code",
   "execution_count": 5,
   "id": "a3e983e3",
   "metadata": {},
   "outputs": [],
   "source": [
    "#Develpment"
   ]
  },
  {
   "cell_type": "code",
   "execution_count": 6,
   "id": "3fd72151",
   "metadata": {},
   "outputs": [
    {
     "data": {
      "text/plain": [
       "(1.638, 40.949999999999996)"
      ]
     },
     "execution_count": 6,
     "metadata": {},
     "output_type": "execute_result"
    }
   ],
   "source": [
    "ETo = 6.5\n",
    "Kc = 0.7\n",
    "days = 25\n",
    "Area = 0.36\n",
    "ETcrop = ETo*Kc*days\n",
    "ETcrop_Dev = ETcrop*Area\n",
    "ETcrop_dev_daily = ETcrop_Dev/days\n",
    "ETcrop_dev_Total = ETcrop_dev_daily * days\n",
    "ETcrop_dev_daily, ETcrop_dev_Total"
   ]
  },
  {
   "cell_type": "code",
   "execution_count": 7,
   "id": "949ec7a6",
   "metadata": {},
   "outputs": [],
   "source": [
    "#Mid_Season"
   ]
  },
  {
   "cell_type": "code",
   "execution_count": 8,
   "id": "553eb8e5",
   "metadata": {},
   "outputs": [
    {
     "data": {
      "text/plain": [
       "(2.5740000000000003, 90.09)"
      ]
     },
     "execution_count": 8,
     "metadata": {},
     "output_type": "execute_result"
    }
   ],
   "source": [
    "ETo = 6.5\n",
    "Kc = 1.1\n",
    "days = 35\n",
    "Area = 0.36\n",
    "ETcrop = ETo*Kc*days\n",
    "ETcrop_mid = ETcrop*Area\n",
    "ETcrop_mid_daily = ETcrop_mid/days\n",
    "ETcrop_mid_Total = ETcrop_mid_daily * days\n",
    "ETcrop_mid_daily, ETcrop_mid_Total"
   ]
  },
  {
   "cell_type": "code",
   "execution_count": 9,
   "id": "b44e2b32",
   "metadata": {},
   "outputs": [],
   "source": [
    "#Late_Season"
   ]
  },
  {
   "cell_type": "code",
   "execution_count": 10,
   "id": "6f6af5ed",
   "metadata": {},
   "outputs": [
    {
     "data": {
      "text/plain": [
       "(0.702, 14.04)"
      ]
     },
     "execution_count": 10,
     "metadata": {},
     "output_type": "execute_result"
    }
   ],
   "source": [
    "ETo = 6.5\n",
    "Kc = 0.3\n",
    "days = 20\n",
    "Area = 0.36\n",
    "ETcrop = ETo*Kc*days\n",
    "ETcrop_lat = ETcrop*Area\n",
    "ETcrop_lat_daily = ETcrop_lat/days\n",
    "ETcrop_lat_Total = ETcrop_lat_daily * days\n",
    "ETcrop_lat_daily, ETcrop_lat_Total"
   ]
  },
  {
   "cell_type": "code",
   "execution_count": 11,
   "id": "5c8e21ea",
   "metadata": {},
   "outputs": [
    {
     "data": {
      "text/plain": [
       "157.36499999999998"
      ]
     },
     "execution_count": 11,
     "metadata": {},
     "output_type": "execute_result"
    }
   ],
   "source": [
    "Total_Seasonal_Water = ETcrop_in_Total + ETcrop_dev_Total + ETcrop_mid_Total + ETcrop_lat_Total\n",
    "Total_Seasonal_Water"
   ]
  },
  {
   "cell_type": "code",
   "execution_count": 12,
   "id": "af11cd88",
   "metadata": {},
   "outputs": [],
   "source": [
    "#Water for 37 days of Experiment"
   ]
  },
  {
   "cell_type": "code",
   "execution_count": 16,
   "id": "1bd09e22",
   "metadata": {},
   "outputs": [
    {
     "data": {
      "text/plain": [
       "(12.285, 36.036, 48.321)"
      ]
     },
     "execution_count": 16,
     "metadata": {},
     "output_type": "execute_result"
    }
   ],
   "source": [
    "Ini_Days = 15\n",
    "Dev_Days = 22\n",
    "Initial = (ETcrop_in_daily * Ini_Days)\n",
    "Development = (ETcrop_dev_daily * Dev_Days)\n",
    "Total = Initial + Development\n",
    "Initial, Development, Total"
   ]
  },
  {
   "cell_type": "code",
   "execution_count": null,
   "id": "eed00736",
   "metadata": {},
   "outputs": [],
   "source": []
  }
 ],
 "metadata": {
  "kernelspec": {
   "display_name": "Python 3 (ipykernel)",
   "language": "python",
   "name": "python3"
  },
  "language_info": {
   "codemirror_mode": {
    "name": "ipython",
    "version": 3
   },
   "file_extension": ".py",
   "mimetype": "text/x-python",
   "name": "python",
   "nbconvert_exporter": "python",
   "pygments_lexer": "ipython3",
   "version": "3.10.9"
  }
 },
 "nbformat": 4,
 "nbformat_minor": 5
}
