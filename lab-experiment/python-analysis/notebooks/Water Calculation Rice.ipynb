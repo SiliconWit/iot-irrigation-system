{
 "cells": [
  {
   "cell_type": "code",
   "execution_count": 10,
   "id": "d0a2b640",
   "metadata": {},
   "outputs": [],
   "source": [
    "#Inital Stage"
   ]
  },
  {
   "cell_type": "code",
   "execution_count": 24,
   "id": "5c45be8a",
   "metadata": {},
   "outputs": [
    {
     "data": {
      "text/plain": [
       "(10.907333333333334, 654.44)"
      ]
     },
     "execution_count": 24,
     "metadata": {},
     "output_type": "execute_result"
    }
   ],
   "source": [
    "ETo = 6.5\n",
    "Kc = 1.1\n",
    "days = 60\n",
    "Area = 0.36\n",
    "PARC = 6\n",
    "SAT = 60/30\n",
    "WL = 10/30\n",
    "ETcrop = ETo*Kc*days\n",
    "ETcrop_Ini = ETcrop*Area\n",
    "ETcrop_Ini_daily = (ETcrop_Ini/days) + (SAT) + PARC + (WL)\n",
    "ETcrop_Ini_Total = ETcrop_Ini_daily * days\n",
    "ETcrop_Ini_daily, ETcrop_Ini_Total"
   ]
  },
  {
   "cell_type": "code",
   "execution_count": 25,
   "id": "07d3d6d7",
   "metadata": {},
   "outputs": [],
   "source": [
    "#Mid Season Stage"
   ]
  },
  {
   "cell_type": "code",
   "execution_count": 26,
   "id": "a8d6d389",
   "metadata": {},
   "outputs": [
    {
     "data": {
      "text/plain": [
       "(9.141333333333334, 548.48)"
      ]
     },
     "execution_count": 26,
     "metadata": {},
     "output_type": "execute_result"
    }
   ],
   "source": [
    "ETo = 6.5\n",
    "Kc = 1.2\n",
    "days = 60\n",
    "Area = 0.36\n",
    "PARC = 6\n",
    "SAT = 0\n",
    "WL = 10\n",
    "ETcrop = ETo*Kc*days\n",
    "ETcrop_mid = ETcrop*Area\n",
    "ETcrop_mid_daily = ETcrop_mid/days + (SAT/30) + PARC + (WL/30)\n",
    "ETcrop_mid_Total = ETcrop_mid_daily * days\n",
    "ETcrop_mid_daily, ETcrop_mid_Total\n"
   ]
  },
  {
   "cell_type": "code",
   "execution_count": 27,
   "id": "296c6801",
   "metadata": {},
   "outputs": [],
   "source": [
    "#Late Seaon Stage"
   ]
  },
  {
   "cell_type": "code",
   "execution_count": 28,
   "id": "e49478eb",
   "metadata": {},
   "outputs": [
    {
     "data": {
      "text/plain": [
       "(8.673333333333334, 260.2)"
      ]
     },
     "execution_count": 28,
     "metadata": {},
     "output_type": "execute_result"
    }
   ],
   "source": [
    "ETo = 6.5\n",
    "Kc = 1\n",
    "days = 30\n",
    "Area = 0.36\n",
    "PARC = 6\n",
    "SAT = 0\n",
    "WL = 10\n",
    "ETcrop = ETo*Kc*days\n",
    "ETcrop_lat = ETcrop*Area\n",
    "ETcrop_lat_daily = (ETcrop_lat/days) + (SAT/30) + PARC + (WL/30)\n",
    "ETcrop_lat_Total = ETcrop_lat_daily * days\n",
    "ETcrop_lat_daily, ETcrop_lat_Total"
   ]
  },
  {
   "cell_type": "code",
   "execution_count": 31,
   "id": "b36cee03",
   "metadata": {},
   "outputs": [
    {
     "data": {
      "text/plain": [
       "(403.57133333333337, 0, 403.57133333333337)"
      ]
     },
     "execution_count": 31,
     "metadata": {},
     "output_type": "execute_result"
    }
   ],
   "source": [
    "Rice_Water_Ini_stage = (ETcrop_Ini_daily*37)\n",
    "Rice_Water_Dev_stage = 0\n",
    "Rice_water = Rice_Water_Ini_stage + Rice_Water_Dev_stage\n",
    "Rice_Water_Ini_stage, Rice_Water_Dev_stage, Rice_water"
   ]
  },
  {
   "cell_type": "code",
   "execution_count": 22,
   "id": "9d46108f",
   "metadata": {},
   "outputs": [
    {
     "data": {
      "text/plain": [
       "1463.1200000000001"
      ]
     },
     "execution_count": 22,
     "metadata": {},
     "output_type": "execute_result"
    }
   ],
   "source": [
    "Total_Seasonal_Water = ETcrop_in_Total + ETcrop_mid_Total + ETcrop_lat_Total\n",
    "Total_Seasonal_Water"
   ]
  },
  {
   "cell_type": "code",
   "execution_count": 32,
   "id": "73c77b0a",
   "metadata": {},
   "outputs": [
    {
     "data": {
      "text/plain": [
       "(403.57133333333337, 403.57133333333337)"
      ]
     },
     "execution_count": 32,
     "metadata": {},
     "output_type": "execute_result"
    }
   ],
   "source": [
    "Ini_Days = 37\n",
    "Initial = (ETcrop_in_daily * Ini_Days)\n",
    "Total = Initial\n",
    "Initial, Total"
   ]
  },
  {
   "cell_type": "code",
   "execution_count": null,
   "id": "6a368e2b",
   "metadata": {},
   "outputs": [],
   "source": []
  }
 ],
 "metadata": {
  "kernelspec": {
   "display_name": "Python 3 (ipykernel)",
   "language": "python",
   "name": "python3"
  },
  "language_info": {
   "codemirror_mode": {
    "name": "ipython",
    "version": 3
   },
   "file_extension": ".py",
   "mimetype": "text/x-python",
   "name": "python",
   "nbconvert_exporter": "python",
   "pygments_lexer": "ipython3",
   "version": "3.10.9"
  }
 },
 "nbformat": 4,
 "nbformat_minor": 5
}
